{
 "cells": [
  {
   "cell_type": "code",
   "execution_count": 30,
   "metadata": {},
   "outputs": [],
   "source": [
    "from marvin.tools.cube import Cube\n",
    "import numpy as np\n",
    "import astropy.units as u"
   ]
  },
  {
   "cell_type": "code",
   "execution_count": 38,
   "metadata": {},
   "outputs": [],
   "source": [
    "cube = Cube(plateifu='8626-12704')\n"
   ]
  },
  {
   "cell_type": "code",
   "execution_count": 50,
   "metadata": {},
   "outputs": [],
   "source": [
    "temp = cube.flux\n",
    "\n",
    "# flux = spaxel.flux\n",
    "# wave = flux.wavelength\n",
    "# ivar = flux.ivar\n",
    "# mask = flux.mask\n",
    "# flux.plot()"
   ]
  },
  {
   "cell_type": "code",
   "execution_count": 43,
   "metadata": {},
   "outputs": [
    {
     "name": "stderr",
     "output_type": "stream",
     "text": [
      "\u001b[0;31m[ERROR]: \u001b[0mTraceback (most recent call last):\n",
      "  File \u001b[36m\"/Users/aksheydeokule/Documents/GitHub/cosmic-composers/.venv/lib/python3.13/site-packages/brain/api/api.py\"\u001b[39;49;00m, line \u001b[34m201\u001b[39;49;00m, in _checkResponse\u001b[37m\u001b[39;49;00m\n",
      "\u001b[37m    \u001b[39;49;00misbad = response.raise_for_status()\u001b[37m\u001b[39;49;00m\n",
      "  File \u001b[36m\"/Users/aksheydeokule/Documents/GitHub/cosmic-composers/.venv/lib/python3.13/site-packages/requests/models.py\"\u001b[39;49;00m, line \u001b[34m1024\u001b[39;49;00m, in raise_for_status\u001b[37m\u001b[39;49;00m\n",
      "\u001b[37m    \u001b[39;49;00m\u001b[34mraise\u001b[39;49;00m HTTPError(http_error_msg, response=\u001b[36mself\u001b[39;49;00m)\u001b[37m\u001b[39;49;00m\n",
      "\u001b[91mrequests.exceptions.HTTPError\u001b[39;49;00m: 502 Server Error: Bad Gateway for url: https://magrathea.sdss.org/marvin/api/cubes/8626-12704/extensions/ivar/\u001b[37m\u001b[39;49;00m\n",
      "\u001b[37m\u001b[39;49;00m\n",
      "During handling of the above exception, another exception occurred:\n",
      "\n",
      "Traceback (most recent call last):\n",
      "  File \u001b[36m\"/Users/aksheydeokule/Documents/GitHub/cosmic-composers/.venv/lib/python3.13/site-packages/marvin/tools/cube.py\"\u001b[39;49;00m, line \u001b[34m404\u001b[39;49;00m, in _get_extension_data\u001b[37m\u001b[39;49;00m\n",
      "\u001b[37m    \u001b[39;49;00mresponse = \u001b[36mself\u001b[39;49;00m._toolInteraction(\u001b[37m\u001b[39;49;00m\n",
      "\u001b[37m    \u001b[39;49;00m    url.format(name=\u001b[36mself\u001b[39;49;00m.plateifu,\u001b[37m\u001b[39;49;00m\n",
      "\u001b[37m    \u001b[39;49;00m               cube_extension=model.fits_extension(ext).lower()),\u001b[37m\u001b[39;49;00m\n",
      "\u001b[37m    \u001b[39;49;00m    params=params)\u001b[37m\u001b[39;49;00m\n",
      "  File \u001b[36m\"/Users/aksheydeokule/Documents/GitHub/cosmic-composers/.venv/lib/python3.13/site-packages/marvin/tools/core.py\"\u001b[39;49;00m, line \u001b[34m134\u001b[39;49;00m, in _toolInteraction\u001b[37m\u001b[39;49;00m\n",
      "\u001b[37m    \u001b[39;49;00m\u001b[34mreturn\u001b[39;49;00m marvin.api.api.Interaction(url, params=params)\u001b[37m\u001b[39;49;00m\n",
      "\u001b[37m           \u001b[39;49;00m~~~~~~~~~~~~~~~~~~~~~~~~~~^^^^^^^^^^^^^^^^^^^^\u001b[37m\u001b[39;49;00m\n",
      "  File \u001b[36m\"/Users/aksheydeokule/Documents/GitHub/cosmic-composers/.venv/lib/python3.13/site-packages/brain/api/api.py\"\u001b[39;49;00m, line \u001b[34m57\u001b[39;49;00m, in __init__\u001b[37m\u001b[39;49;00m\n",
      "\u001b[37m    \u001b[39;49;00m\u001b[36mself\u001b[39;49;00m._sendRequest(request_type)\u001b[37m\u001b[39;49;00m\n",
      "\u001b[37m    \u001b[39;49;00m~~~~~~~~~~~~~~~~~^^^^^^^^^^^^^^\u001b[37m\u001b[39;49;00m\n",
      "  File \u001b[36m\"/Users/aksheydeokule/Documents/GitHub/cosmic-composers/.venv/lib/python3.13/site-packages/brain/api/api.py\"\u001b[39;49;00m, line \u001b[34m302\u001b[39;49;00m, in _sendRequest\u001b[37m\u001b[39;49;00m\n",
      "\u001b[37m    \u001b[39;49;00m\u001b[36mself\u001b[39;49;00m._checkResponse(\u001b[36mself\u001b[39;49;00m._response)\u001b[37m\u001b[39;49;00m\n",
      "\u001b[37m    \u001b[39;49;00m~~~~~~~~~~~~~~~~~~~^^^^^^^^^^^^^^^^\u001b[37m\u001b[39;49;00m\n",
      "  File \u001b[36m\"/Users/aksheydeokule/Documents/GitHub/cosmic-composers/.venv/lib/python3.13/site-packages/brain/api/api.py\"\u001b[39;49;00m, line \u001b[34m234\u001b[39;49;00m, in _checkResponse\u001b[37m\u001b[39;49;00m\n",
      "\u001b[37m    \u001b[39;49;00m\u001b[34mraise\u001b[39;49;00m BrainError(\u001b[33m'\u001b[39;49;00m\u001b[33mRequests Http Status Error: \u001b[39;49;00m\u001b[33m{0}\u001b[39;49;00m\u001b[33m\\n\u001b[39;49;00m\u001b[33m{1}\u001b[39;49;00m\u001b[33m'\u001b[39;49;00m.format(http, json_data))\u001b[37m\u001b[39;49;00m\n",
      "\u001b[91mbrain.core.exceptions.BrainError\u001b[39;49;00m: Requests Http Status Error: 502 Server Error: Bad Gateway for url: https://magrathea.sdss.org/marvin/api/cubes/8626-12704/extensions/ivar/\u001b[37m\u001b[39;49;00m\n",
      "b'<html>\\r\\n<head><title>502 Bad Gateway</title></head>\\r\\n<body>\\r\\n<center><h1>502 Bad Gateway</h1></center>\\r\\n<hr><center>nginx/1.25.4</center>\\r\\n</body>\\r\\n</html>\\r\\n'\n",
      "\u001b[37m\u001b[39;49;00m\n",
      "During handling of the above exception, another exception occurred:\n",
      "\n",
      "Traceback (most recent call last):\n",
      "  File \u001b[36m\"/Users/aksheydeokule/Documents/GitHub/cosmic-composers/.venv/lib/python3.13/site-packages/IPython/core/interactiveshell.py\"\u001b[39;49;00m, line \u001b[34m3667\u001b[39;49;00m, in run_code\u001b[37m\u001b[39;49;00m\n",
      "\u001b[37m    \u001b[39;49;00mexec(code_obj, \u001b[36mself\u001b[39;49;00m.user_global_ns, \u001b[36mself\u001b[39;49;00m.user_ns)\u001b[37m\u001b[39;49;00m\n",
      "\u001b[37m    \u001b[39;49;00m~~~~^^^^^^^^^^^^^^^^^^^^^^^^^^^^^^^^^^^^^^^^^^^^^\u001b[37m\u001b[39;49;00m\n",
      "  File \u001b[36m\"/var/folders/xx/qlgx9f956fd10mq7_54t38ym0000gn/T/ipykernel_33156/3419627342.py\"\u001b[39;49;00m, line \u001b[34m7\u001b[39;49;00m, in <module>\u001b[37m\u001b[39;49;00m\n",
      "\u001b[37m    \u001b[39;49;00m\u001b[36mprint\u001b[39;49;00m(cube.flux.value[wavelength_index])\u001b[37m\u001b[39;49;00m\n",
      "\u001b[37m          \u001b[39;49;00m^^^^^^^^^\u001b[37m\u001b[39;49;00m\n",
      "  File \u001b[36m\"/Users/aksheydeokule/Documents/GitHub/cosmic-composers/.venv/lib/python3.13/site-packages/marvin/tools/cube.py\"\u001b[39;49;00m, line \u001b[34m303\u001b[39;49;00m, in flux\u001b[37m\u001b[39;49;00m\n",
      "\u001b[37m    \u001b[39;49;00m\u001b[36mself\u001b[39;49;00m._flux = \u001b[36mself\u001b[39;49;00m._get_datacube(\u001b[33m'\u001b[39;49;00m\u001b[33mflux\u001b[39;49;00m\u001b[33m'\u001b[39;49;00m)\u001b[37m\u001b[39;49;00m\n",
      "\u001b[37m                 \u001b[39;49;00m~~~~~~~~~~~~~~~~~~^^^^^^^^\u001b[37m\u001b[39;49;00m\n",
      "  File \u001b[36m\"/Users/aksheydeokule/Documents/GitHub/cosmic-composers/.venv/lib/python3.13/site-packages/marvin/tools/cube.py\"\u001b[39;49;00m, line \u001b[34m269\u001b[39;49;00m, in _get_datacube\u001b[37m\u001b[39;49;00m\n",
      "\u001b[37m    \u001b[39;49;00mivar=\u001b[36mself\u001b[39;49;00m._get_extension_data(name, \u001b[33m'\u001b[39;49;00m\u001b[33mivar\u001b[39;49;00m\u001b[33m'\u001b[39;49;00m),\u001b[37m\u001b[39;49;00m\n",
      "\u001b[37m         \u001b[39;49;00m~~~~~~~~~~~~~~~~~~~~~~~~^^^^^^^^^^^^^^\u001b[37m\u001b[39;49;00m\n",
      "  File \u001b[36m\"/Users/aksheydeokule/Documents/GitHub/cosmic-composers/.venv/lib/python3.13/site-packages/marvin/tools/cube.py\"\u001b[39;49;00m, line \u001b[34m409\u001b[39;49;00m, in _get_extension_data\u001b[37m\u001b[39;49;00m\n",
      "\u001b[37m    \u001b[39;49;00m\u001b[34mraise\u001b[39;49;00m MarvinError(\u001b[33m'\u001b[39;49;00m\u001b[33mfound a problem when checking if remote cube \u001b[39;49;00m\u001b[33m'\u001b[39;49;00m\u001b[37m\u001b[39;49;00m\n",
      "\u001b[37m    \u001b[39;49;00m                  \u001b[33m'\u001b[39;49;00m\u001b[33mexists: \u001b[39;49;00m\u001b[33m{0}\u001b[39;49;00m\u001b[33m'\u001b[39;49;00m.format(\u001b[36mstr\u001b[39;49;00m(ee)))\u001b[37m\u001b[39;49;00m\n",
      "\u001b[91mmarvin.core.exceptions.MarvinError\u001b[39;49;00m: found a problem when checking if remote cube exists: Requests Http Status Error: 502 Server Error: Bad Gateway for url: https://magrathea.sdss.org/marvin/api/cubes/8626-12704/extensions/ivar/\u001b[37m\u001b[39;49;00m\n",
      "b'<html>\\r\\n<head><title>502 Bad Gateway</title></head>\\r\\n<body>\\r\\n<center><h1>502 Bad Gateway</h1></center>\\r\\n<hr><center>nginx/1.25.4</center>\\r\\n</body>\\r\\n</html>\\r\\n'.\n",
      "You can submit this error to Marvin GitHub Issues (https://github.com/sdss/marvin/issues/new).\n",
      "Fill out a subject and some text describing the error that just occurred.\n",
      "If able, copy and paste the full traceback information into the issue as well.\n",
      "\n"
     ]
    }
   ],
   "source": [
    "target_wavelength = 6563 * u.Angstrom # Angstroms\n",
    "\n",
    "# 4. Find the index of the wavelength slice closest to the target\n",
    "wavelength_index = np.argmin(np.abs(wave - target_wavelength))\n",
    "closest_wavelength = wave[wavelength_index]\n",
    "\n",
    "print(cube.flux.value[wavelength_index])"
   ]
  },
  {
   "cell_type": "code",
   "execution_count": 9,
   "metadata": {},
   "outputs": [
    {
     "name": "stdout",
     "output_type": "stream",
     "text": [
      "4563\n",
      "{'h_alpha': 0, 'h_beta': <Quantity 378168.604 Angstrom>, 'h_gamma': <Quantity 405214.9605 Angstrom>, 'h_delta': 0, 'h_epsilon': 0, 'h_zeta': 0, 'h_eta': 0, 'zero_three': 0, 's_two': 0}\n"
     ]
    }
   ],
   "source": [
    "#h_alpha 6540-6580\n",
    "#h_beta 4040-4080\n",
    "#h_gamma 4340-4380\n",
    "#h_delta 4860-4900\n",
    "#h_epsilon 5000-5040\n",
    "#h_zeta 5870-5910\n",
    "#h_eta 6640-6680\n",
    "\n",
    "# 03 4850-5020\n",
    "# s2 6700-6750\n",
    "\n",
    "# wave indices start at 3621 and go to 10353\n",
    "\n",
    "wavelength_ranges = {\n",
    "    'h_alpha': (6540, 6580),\n",
    "    'h_beta': (4040, 4080), \n",
    "    'h_gamma': (4340, 4380),\n",
    "    'h_delta': (4860, 4900),\n",
    "    'h_epsilon': (5000, 5040),\n",
    "    'h_zeta': (5870, 5910),\n",
    "    'h_eta': (6640, 6680),\n",
    "    'zero_three': (4850, 5020),\n",
    "    's_two': (6700, 6750)\n",
    "}\n",
    "\n",
    "wavelength_sums = {}\n",
    "\n",
    "print(len(wave))\n",
    "\n",
    "for name, wavelength in wavelength_ranges.items():\n",
    "    start, end  = wavelength\n",
    "\n",
    "    wavelength_sum = sum(wave[start:end + 1])\n",
    "    wavelength_sums[name] = wavelength_sum\n",
    "\n",
    "print(wavelength_sums)\n",
    "\n",
    "\n",
    "\n"
   ]
  }
 ],
 "metadata": {
  "kernelspec": {
   "display_name": ".venv",
   "language": "python",
   "name": "python3"
  },
  "language_info": {
   "codemirror_mode": {
    "name": "ipython",
    "version": 3
   },
   "file_extension": ".py",
   "mimetype": "text/x-python",
   "name": "python",
   "nbconvert_exporter": "python",
   "pygments_lexer": "ipython3",
   "version": "3.13.2"
  }
 },
 "nbformat": 4,
 "nbformat_minor": 2
}
